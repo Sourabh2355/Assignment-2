{
 "cells": [
  {
   "cell_type": "code",
   "execution_count": 1,
   "id": "e8e48e1e-9d16-4f1f-838f-ff2d7ddd6c7a",
   "metadata": {},
   "outputs": [
    {
     "data": {
      "text/plain": [
       "'A'"
      ]
     },
     "execution_count": 1,
     "metadata": {},
     "output_type": "execute_result"
    }
   ],
   "source": [
    "# Discuss string slicing and provide examples.\n",
    "#Extracting/Slicing of string\n",
    "#it is obtaining a string value by slicing th strin from start to end\n",
    "a = \"Ajay\"\n",
    "a[0]"
   ]
  },
  {
   "cell_type": "code",
   "execution_count": 2,
   "id": "eaff0736-865f-4848-a507-9fc53bcb2e22",
   "metadata": {},
   "outputs": [],
   "source": [
    "a = \"I am a good student\""
   ]
  },
  {
   "cell_type": "code",
   "execution_count": 3,
   "id": "07118403-db87-4d09-8257-33dafb4f19e3",
   "metadata": {},
   "outputs": [
    {
     "data": {
      "text/plain": [
       "'I am'"
      ]
     },
     "execution_count": 3,
     "metadata": {},
     "output_type": "execute_result"
    }
   ],
   "source": [
    "a[0:4] #4 is exclusive>> var[a:b] then b is not inluded i.e b-1"
   ]
  },
  {
   "cell_type": "code",
   "execution_count": 4,
   "id": "84978be0-9347-46ff-91ca-443e5faa5880",
   "metadata": {},
   "outputs": [
    {
     "data": {
      "text/plain": [
       "'I am a good student'"
      ]
     },
     "execution_count": 4,
     "metadata": {},
     "output_type": "execute_result"
    }
   ],
   "source": [
    "a[0:]#start index to end index>> if we do not enter value of last index then it will provide value upto last index"
   ]
  },
  {
   "cell_type": "code",
   "execution_count": 5,
   "id": "75b3910c-c503-47de-8c09-b7443baa601c",
   "metadata": {},
   "outputs": [],
   "source": [
    "#Explain the key features of lists in Python.\n",
    "#Lists are ordered collection of items.\n",
    "#[]\n",
    "#Lists are like shopping bag that can store everythimg\n",
    "# Lists are mutable\n"
   ]
  },
  {
   "cell_type": "code",
   "execution_count": 6,
   "id": "45434f8a-799a-42a2-ade3-e2f54671eb45",
   "metadata": {},
   "outputs": [],
   "source": [
    "# Describe how to access modify and delete elements in a list with examples\n",
    "a =[1,2,3,\"milk\",\"orange\",\"egg\",2.2]"
   ]
  },
  {
   "cell_type": "code",
   "execution_count": 7,
   "id": "766ab49c-33d3-494c-9811-9edd6a6fab6a",
   "metadata": {},
   "outputs": [
    {
     "data": {
      "text/plain": [
       "1"
      ]
     },
     "execution_count": 7,
     "metadata": {},
     "output_type": "execute_result"
    }
   ],
   "source": [
    "a[0] # by indexing we can access the lists "
   ]
  },
  {
   "cell_type": "code",
   "execution_count": 8,
   "id": "ece85e39-1123-44b5-960c-176200fda011",
   "metadata": {},
   "outputs": [],
   "source": [
    "a.append(\"banana\") # used to add the value in the list"
   ]
  },
  {
   "cell_type": "code",
   "execution_count": 9,
   "id": "fd8634d2-3bc9-4481-843c-133fd1969753",
   "metadata": {},
   "outputs": [
    {
     "data": {
      "text/plain": [
       "[1, 2, 3, 'milk', 'orange', 'egg', 2.2, 'banana']"
      ]
     },
     "execution_count": 9,
     "metadata": {},
     "output_type": "execute_result"
    }
   ],
   "source": [
    "a"
   ]
  },
  {
   "cell_type": "code",
   "execution_count": 10,
   "id": "71647e2d-f891-493a-aa75-b784a45c53a4",
   "metadata": {},
   "outputs": [],
   "source": [
    "del a[0] #used to delete the elememts in list"
   ]
  },
  {
   "cell_type": "code",
   "execution_count": 11,
   "id": "36e289c1-432a-4800-828b-e08471731b92",
   "metadata": {},
   "outputs": [
    {
     "data": {
      "text/plain": [
       "[2, 3, 'milk', 'orange', 'egg', 2.2, 'banana']"
      ]
     },
     "execution_count": 11,
     "metadata": {},
     "output_type": "execute_result"
    }
   ],
   "source": [
    "a"
   ]
  },
  {
   "cell_type": "code",
   "execution_count": 13,
   "id": "3fe7d230-63f0-4253-b094-fcd7d5b974a1",
   "metadata": {},
   "outputs": [],
   "source": [
    "#Compare and contrast tuples and losts with examples\n",
    "#tuples are like lists but tuples are immutable"
   ]
  },
  {
   "cell_type": "code",
   "execution_count": 14,
   "id": "52fafbc7-f8e7-40b3-9504-f1021babab53",
   "metadata": {},
   "outputs": [],
   "source": [
    "t = (1,2,3,3.3,4,\"sourabh\")"
   ]
  },
  {
   "cell_type": "code",
   "execution_count": 15,
   "id": "e1cee8db-5f3d-4d67-a0f9-6fbb5390ca26",
   "metadata": {},
   "outputs": [
    {
     "data": {
      "text/plain": [
       "(1, 2, 3, 3.3, 4, 'sourabh')"
      ]
     },
     "execution_count": 15,
     "metadata": {},
     "output_type": "execute_result"
    }
   ],
   "source": [
    "t"
   ]
  },
  {
   "cell_type": "code",
   "execution_count": 16,
   "id": "29a4061f-3179-47ef-85f3-45856071571b",
   "metadata": {},
   "outputs": [
    {
     "data": {
      "text/plain": [
       "[2, 3, 'milk', 'orange', 'egg', 2.2, 'banana']"
      ]
     },
     "execution_count": 16,
     "metadata": {},
     "output_type": "execute_result"
    }
   ],
   "source": [
    "a"
   ]
  },
  {
   "cell_type": "code",
   "execution_count": 18,
   "id": "c0902fb4-9086-4740-a6b3-59f2ad1310f7",
   "metadata": {},
   "outputs": [
    {
     "data": {
      "text/plain": [
       "1"
      ]
     },
     "execution_count": 18,
     "metadata": {},
     "output_type": "execute_result"
    }
   ],
   "source": [
    "t[0]"
   ]
  },
  {
   "cell_type": "code",
   "execution_count": 19,
   "id": "e473efc7-b574-444d-b431-4e7ea1de3ef8",
   "metadata": {},
   "outputs": [
    {
     "ename": "TypeError",
     "evalue": "'tuple' object does not support item assignment",
     "output_type": "error",
     "traceback": [
      "\u001b[0;31m---------------------------------------------------------------------------\u001b[0m",
      "\u001b[0;31mTypeError\u001b[0m                                 Traceback (most recent call last)",
      "Cell \u001b[0;32mIn[19], line 1\u001b[0m\n\u001b[0;32m----> 1\u001b[0m \u001b[43mt\u001b[49m\u001b[43m[\u001b[49m\u001b[38;5;241;43m0\u001b[39;49m\u001b[43m]\u001b[49m \u001b[38;5;241m=\u001b[39m \u001b[38;5;241m2\u001b[39m\n",
      "\u001b[0;31mTypeError\u001b[0m: 'tuple' object does not support item assignment"
     ]
    }
   ],
   "source": [
    "t[0] = 2 # it gives error as it is not mutable"
   ]
  },
  {
   "cell_type": "code",
   "execution_count": 20,
   "id": "129e2aac-1a3d-4baf-b532-8cc79acf6977",
   "metadata": {},
   "outputs": [
    {
     "data": {
      "text/plain": [
       "2"
      ]
     },
     "execution_count": 20,
     "metadata": {},
     "output_type": "execute_result"
    }
   ],
   "source": [
    "a[0] #as a is list we can change the value of element"
   ]
  },
  {
   "cell_type": "code",
   "execution_count": 21,
   "id": "2012a065-9dd2-4da0-a1db-a36468a62f8d",
   "metadata": {},
   "outputs": [],
   "source": [
    "a[0] = 9"
   ]
  },
  {
   "cell_type": "code",
   "execution_count": 22,
   "id": "7be7b03a-0ce6-4d51-9bf8-7724ac338e9e",
   "metadata": {},
   "outputs": [
    {
     "data": {
      "text/plain": [
       "[9, 3, 'milk', 'orange', 'egg', 2.2, 'banana']"
      ]
     },
     "execution_count": 22,
     "metadata": {},
     "output_type": "execute_result"
    }
   ],
   "source": [
    "a"
   ]
  },
  {
   "cell_type": "code",
   "execution_count": 23,
   "id": "d03a7d21-13cc-4b7c-b37d-81746e5d0b3f",
   "metadata": {},
   "outputs": [],
   "source": [
    "# Describe the key features of sets and provide examples of their use\n",
    "# are unordered and nique collection of elements\n",
    "#it doesnt allow duplicate elements\n",
    "#unordered >> indexing wil not work\n",
    "s = {1,1,2,2,2,3.3, \"ajay\", \"Ajay\", \"Ajay\", \"ajay\"}"
   ]
  },
  {
   "cell_type": "code",
   "execution_count": 25,
   "id": "fe17654d-dd24-4199-8c9b-6e6c16971f14",
   "metadata": {},
   "outputs": [
    {
     "data": {
      "text/plain": [
       "{1, 2, 3.3, 'Ajay', 'ajay'}"
      ]
     },
     "execution_count": 25,
     "metadata": {},
     "output_type": "execute_result"
    }
   ],
   "source": [
    "s"
   ]
  },
  {
   "cell_type": "code",
   "execution_count": 26,
   "id": "23efdd72-905f-4e08-bc2c-1102fc56a781",
   "metadata": {},
   "outputs": [],
   "source": [
    "#use case\n",
    "a = [1, 2, 3, 4, \"Brinjal\", \"Brinjal\", \"Apple\", \"Apple\"]\n",
    "s = set(a)"
   ]
  },
  {
   "cell_type": "code",
   "execution_count": 27,
   "id": "83867e64-ac9e-412a-9244-ccbb92a0f9ef",
   "metadata": {},
   "outputs": [],
   "source": [
    "a = list(s)"
   ]
  },
  {
   "cell_type": "code",
   "execution_count": 28,
   "id": "f63befb9-611d-473a-aefb-43167e312a46",
   "metadata": {},
   "outputs": [
    {
     "data": {
      "text/plain": [
       "1"
      ]
     },
     "execution_count": 28,
     "metadata": {},
     "output_type": "execute_result"
    }
   ],
   "source": [
    "a[0]"
   ]
  },
  {
   "cell_type": "code",
   "execution_count": 30,
   "id": "6fd05988-ab70-497f-8da5-ad4856bdb1a1",
   "metadata": {},
   "outputs": [],
   "source": [
    "# Describe how to add modify and delete items in a dictionary with examples\n",
    "# Dictionaries >> is a data structure that stores data as key value pair\n"
   ]
  },
  {
   "cell_type": "code",
   "execution_count": 40,
   "id": "8cdb3120-8beb-43d6-ba9a-741ebc04a9bd",
   "metadata": {},
   "outputs": [
    {
     "data": {
      "text/plain": [
       "{'Name': 'Sourabh',\n",
       " 'Email': ' Sorabhpatil586@gmail.com',\n",
       " ' Contact': 8767212359}"
      ]
     },
     "execution_count": 40,
     "metadata": {},
     "output_type": "execute_result"
    }
   ],
   "source": [
    "d = { \"Name\" : \"Sourabh\", \"Email\" : \" Sorabhpatil586@gmail.com\", \" Contact\" : 8767212359}\n",
    "d"
   ]
  },
  {
   "cell_type": "code",
   "execution_count": 32,
   "id": "9beaff7c-94c2-4f65-b2ab-135749fc57c3",
   "metadata": {},
   "outputs": [
    {
     "data": {
      "text/plain": [
       "' Sorabhpatil586@gmail.com'"
      ]
     },
     "execution_count": 32,
     "metadata": {},
     "output_type": "execute_result"
    }
   ],
   "source": [
    "d[\"Email\"]"
   ]
  },
  {
   "cell_type": "code",
   "execution_count": 33,
   "id": "8bc2fa0a-76eb-46a9-b804-23c8f91795f7",
   "metadata": {},
   "outputs": [],
   "source": [
    "d[\"Name\"] = \"Ajay\"# modify vallue"
   ]
  },
  {
   "cell_type": "code",
   "execution_count": 34,
   "id": "bd6760c2-0b77-4db3-a32a-529c3268e50a",
   "metadata": {},
   "outputs": [
    {
     "data": {
      "text/plain": [
       "{'Name': 'Ajay', 'Email': ' Sorabhpatil586@gmail.com', ' Contact': 8767212359}"
      ]
     },
     "execution_count": 34,
     "metadata": {},
     "output_type": "execute_result"
    }
   ],
   "source": [
    "d"
   ]
  },
  {
   "cell_type": "code",
   "execution_count": 41,
   "id": "3ff1b097-3131-4288-99dd-f045608a2b3d",
   "metadata": {},
   "outputs": [],
   "source": [
    "d[\"address\"] = \"26th lane kolhapur\"    # add value key pair"
   ]
  },
  {
   "cell_type": "code",
   "execution_count": 42,
   "id": "a6da8d39-6887-4381-8973-33a165d978d8",
   "metadata": {},
   "outputs": [
    {
     "data": {
      "text/plain": [
       "{'Name': 'Sourabh',\n",
       " 'Email': ' Sorabhpatil586@gmail.com',\n",
       " ' Contact': 8767212359,\n",
       " 'address': '26th lane kolhapur'}"
      ]
     },
     "execution_count": 42,
     "metadata": {},
     "output_type": "execute_result"
    }
   ],
   "source": [
    "d"
   ]
  },
  {
   "cell_type": "code",
   "execution_count": 43,
   "id": "3a63b8dd-ea15-4e44-ac88-a4ec57288c2e",
   "metadata": {},
   "outputs": [],
   "source": [
    "del d[\"address\"] #deletes the key value pair"
   ]
  },
  {
   "cell_type": "code",
   "execution_count": 44,
   "id": "1c37a721-2d8c-47ab-a965-ad7d321de243",
   "metadata": {},
   "outputs": [
    {
     "data": {
      "text/plain": [
       "{'Name': 'Sourabh',\n",
       " 'Email': ' Sorabhpatil586@gmail.com',\n",
       " ' Contact': 8767212359}"
      ]
     },
     "execution_count": 44,
     "metadata": {},
     "output_type": "execute_result"
    }
   ],
   "source": [
    "d"
   ]
  },
  {
   "cell_type": "code",
   "execution_count": 47,
   "id": "beacf947-e9f2-4948-9b68-45dba1ea89dc",
   "metadata": {},
   "outputs": [
    {
     "ename": "NameError",
     "evalue": "name 'd' is not defined",
     "output_type": "error",
     "traceback": [
      "\u001b[0;31m---------------------------------------------------------------------------\u001b[0m",
      "\u001b[0;31mNameError\u001b[0m                                 Traceback (most recent call last)",
      "Cell \u001b[0;32mIn[47], line 1\u001b[0m\n\u001b[0;32m----> 1\u001b[0m \u001b[38;5;28;01mdel\u001b[39;00m d\u001b[38;5;66;03m#deletes whole dictionary\u001b[39;00m\n",
      "\u001b[0;31mNameError\u001b[0m: name 'd' is not defined"
     ]
    }
   ],
   "source": [
    "del d#deletes whole dictionary"
   ]
  },
  {
   "cell_type": "code",
   "execution_count": 48,
   "id": "2ae21caa-ddd3-4274-ade2-07ac2ae6cf81",
   "metadata": {},
   "outputs": [],
   "source": [
    "# Discuss the importance of dictionary keys being immutable and provide examples\n",
    "# keys are unique and immutable \n",
    "# because if we want any of the heading fixed then we can use the dictionary"
   ]
  },
  {
   "cell_type": "code",
   "execution_count": null,
   "id": "ad3c0817-f946-4e49-ae2e-d8561a6fd1f2",
   "metadata": {},
   "outputs": [],
   "source": []
  }
 ],
 "metadata": {
  "kernelspec": {
   "display_name": "Python 3 (ipykernel)",
   "language": "python",
   "name": "python3"
  },
  "language_info": {
   "codemirror_mode": {
    "name": "ipython",
    "version": 3
   },
   "file_extension": ".py",
   "mimetype": "text/x-python",
   "name": "python",
   "nbconvert_exporter": "python",
   "pygments_lexer": "ipython3",
   "version": "3.10.8"
  }
 },
 "nbformat": 4,
 "nbformat_minor": 5
}
